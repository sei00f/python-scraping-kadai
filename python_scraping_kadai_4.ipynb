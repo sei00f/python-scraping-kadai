{
  "nbformat": 4,
  "nbformat_minor": 0,
  "metadata": {
    "colab": {
      "provenance": [],
      "authorship_tag": "ABX9TyNXFMp1s4IXHfV5ykgxd70c",
      "include_colab_link": true
    },
    "kernelspec": {
      "name": "python3",
      "display_name": "Python 3"
    },
    "language_info": {
      "name": "python"
    }
  },
  "cells": [
    {
      "cell_type": "markdown",
      "metadata": {
        "id": "view-in-github",
        "colab_type": "text"
      },
      "source": [
        "<a href=\"https://colab.research.google.com/github/sei00f/python-scraping-kadai/blob/main/python_scraping_kadai_4.ipynb\" target=\"_parent\"><img src=\"https://colab.research.google.com/assets/colab-badge.svg\" alt=\"Open In Colab\"/></a>"
      ]
    },
    {
      "cell_type": "code",
      "source": [
        "!pip install selenium beautifulsoup4\n",
        "\n",
        "import time\n",
        "import datetime\n",
        "from selenium import webdriver\n",
        "from bs4 import BeautifulSoup\n",
        "from selenium.webdriver.common.by import By\n",
        "from selenium.webdriver.support.ui import WebDriverWait\n",
        "from selenium.webdriver.support import expected_conditions as EC\n",
        "\n",
        "# ヘッドレスモードで起動するためのオプションを設定\n",
        "chrome_options = webdriver.ChromeOptions()\n",
        "chrome_options.add_argument('--headless')\n",
        "chrome_options.add_argument('--no-sandbox')\n",
        "chrome_options.add_argument('--disable-dev-shm-usage')\n",
        "\n",
        "# スクレイピングの開始時間を記録\n",
        "start_time = time.time()\n",
        "\n",
        "# Chromeを立ち上げる\n",
        "chrome_driver = webdriver.Chrome(options=chrome_options)\n",
        "\n",
        "# 日経新聞へアクセス\n",
        "chrome_driver.get('https://www.nikkei.com/markets/worldidx/chart/nk225/?type=6month')\n",
        "\n",
        "# 株価が表示されるまで待つ\n",
        "wait = WebDriverWait(chrome_driver, 30)\n",
        "wait.until(EC.visibility_of_element_located((By.CSS_SELECTOR, 'tbody')))\n",
        "\n",
        "# 関数名はget_stock_valuesとする\n",
        "def get_stock_values(chrome_driver, graph_element):\n",
        "# グラフ中央にマウスを移動させる\n",
        "    action = ActionChains(chrome_driver)\n",
        "    action.move_to_element_with_offset(graph_element, graph_element.size['width'] / 2, graph_element.size['height'] / 2)\n",
        "    action.perform()\n",
        "# マウスをグラフの右端に移動させる\n",
        "    action.move_by_offset(graph_element.size['width']/ 2, 0)\n",
        "    action.perform()\n",
        "\n",
        "# HTMLから株価データを抽出する関数\n",
        "def extract_stock_data(html):\n",
        "    soup = BeautifulSoup(chrome_driver.page_source, 'html.parser')\n",
        "    rows = soup.select('tbody tr')\n",
        "\n",
        "#データ格納のリスト作成\n",
        "    stock_data = []\n",
        "\n",
        "# ====↓繰り返したい範囲↓====\n",
        "\n",
        "    for row in rows:\n",
        "        td_elements = row.find_all('td')\n",
        "# 日付のフォーマット変更\n",
        "        date_text = td_elements[0].text.strip()\n",
        "# 文字列を日付オブジェクトに変換し、フォーマットを変更\n",
        "        date_obj = datetime.strptime(date_text, \"%Y/%m/%d\")\n",
        "        formatted_date = date_obj.strftime(\"%Y-%m-%d\")\n",
        "        open_price = td_elements[1].text.strip()\n",
        "        high_price = td_elements[2].text.strip()\n",
        "        low_price = td_elements[3].text.strip()\n",
        "        close_price = td_elements[4].text.strip()\n",
        "\n",
        "        stock_data.append([formatted_date, open_price, high_price, low_price, close_price])\n",
        "\n",
        "        return stock_data\n",
        "        # 1px左に移動\n",
        "        action.move_by_offset(-1, 0)\n",
        "        action.perform()\n",
        "\n",
        "# ====↑繰り返したい範囲↑====\n",
        "\n",
        "# スクレイピングの終了時間を記録\n",
        "end_time = time.time()\n",
        "# スクレイピングにかかった時間を計算\n",
        "scraping_time = end_time - start_time\n",
        "# 結果を表示\n",
        "print(\"スクレイピングにかかった時間: {:.1f}秒\".format(scraping_time))\n",
        "\n",
        "# 関数の呼び出し\n",
        "for data in stock_data:\n",
        "    print(data)\n"
      ],
      "metadata": {
        "colab": {
          "base_uri": "https://localhost:8080/"
        },
        "id": "4M2S-eO-kg14",
        "outputId": "e263c418-b14c-429a-b33e-f0b7ed5011b1"
      },
      "execution_count": 14,
      "outputs": [
        {
          "output_type": "stream",
          "name": "stdout",
          "text": [
            "Requirement already satisfied: selenium in /usr/local/lib/python3.10/dist-packages (4.21.0)\n",
            "Requirement already satisfied: beautifulsoup4 in /usr/local/lib/python3.10/dist-packages (4.12.3)\n",
            "Requirement already satisfied: urllib3[socks]<3,>=1.26 in /usr/local/lib/python3.10/dist-packages (from selenium) (2.0.7)\n",
            "Requirement already satisfied: trio~=0.17 in /usr/local/lib/python3.10/dist-packages (from selenium) (0.25.1)\n",
            "Requirement already satisfied: trio-websocket~=0.9 in /usr/local/lib/python3.10/dist-packages (from selenium) (0.11.1)\n",
            "Requirement already satisfied: certifi>=2021.10.8 in /usr/local/lib/python3.10/dist-packages (from selenium) (2024.2.2)\n",
            "Requirement already satisfied: typing_extensions>=4.9.0 in /usr/local/lib/python3.10/dist-packages (from selenium) (4.11.0)\n",
            "Requirement already satisfied: soupsieve>1.2 in /usr/local/lib/python3.10/dist-packages (from beautifulsoup4) (2.5)\n",
            "Requirement already satisfied: attrs>=23.2.0 in /usr/local/lib/python3.10/dist-packages (from trio~=0.17->selenium) (23.2.0)\n",
            "Requirement already satisfied: sortedcontainers in /usr/local/lib/python3.10/dist-packages (from trio~=0.17->selenium) (2.4.0)\n",
            "Requirement already satisfied: idna in /usr/local/lib/python3.10/dist-packages (from trio~=0.17->selenium) (3.7)\n",
            "Requirement already satisfied: outcome in /usr/local/lib/python3.10/dist-packages (from trio~=0.17->selenium) (1.3.0.post0)\n",
            "Requirement already satisfied: sniffio>=1.3.0 in /usr/local/lib/python3.10/dist-packages (from trio~=0.17->selenium) (1.3.1)\n",
            "Requirement already satisfied: exceptiongroup in /usr/local/lib/python3.10/dist-packages (from trio~=0.17->selenium) (1.2.1)\n",
            "Requirement already satisfied: wsproto>=0.14 in /usr/local/lib/python3.10/dist-packages (from trio-websocket~=0.9->selenium) (1.2.0)\n",
            "Requirement already satisfied: pysocks!=1.5.7,<2.0,>=1.5.6 in /usr/local/lib/python3.10/dist-packages (from urllib3[socks]<3,>=1.26->selenium) (1.7.1)\n",
            "Requirement already satisfied: h11<1,>=0.9.0 in /usr/local/lib/python3.10/dist-packages (from wsproto>=0.14->trio-websocket~=0.9->selenium) (0.14.0)\n",
            "スクレイピングにかかった時間: 8.7秒\n",
            "['2024-05-24', '始値: 38,506.03', '高値: 38,740.82', '安値: 38,367.7', '終値: 38,646.11']\n"
          ]
        }
      ]
    }
  ]
}