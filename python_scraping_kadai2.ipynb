{
  "nbformat": 4,
  "nbformat_minor": 0,
  "metadata": {
    "colab": {
      "provenance": [],
      "authorship_tag": "ABX9TyO7+1mU5XRmKOP30ExTzctR",
      "include_colab_link": true
    },
    "kernelspec": {
      "name": "python3",
      "display_name": "Python 3"
    },
    "language_info": {
      "name": "python"
    }
  },
  "cells": [
    {
      "cell_type": "markdown",
      "metadata": {
        "id": "view-in-github",
        "colab_type": "text"
      },
      "source": [
        "<a href=\"https://colab.research.google.com/github/sei00f/python-scraping-kadai/blob/main/python_scraping_kadai2.ipynb\" target=\"_parent\"><img src=\"https://colab.research.google.com/assets/colab-badge.svg\" alt=\"Open In Colab\"/></a>"
      ]
    },
    {
      "cell_type": "code",
      "source": [
        "!pip install requests\n",
        "import requests\n",
        "from getpass import getpass\n",
        "\n",
        "# APIキーの取得\n",
        "api_key = getpass('APIキーを入力してください: ')\n",
        "\n",
        "# 駅名の入力\n",
        "station_name = input('駅名を入力してください: ')\n",
        "\n",
        "# 緯度経度を取得\n",
        "location_url = 'https://maps.googleapis.com/maps/api/geocode/json'\n",
        "\n",
        "response_loc = requests.get(\n",
        "    location_url,\n",
        "    params ={\n",
        "        'address': station_name,\n",
        "        'key': api_key,\n",
        "    }\n",
        ")\n",
        "# 住所のJSONを取得\n",
        "json_data_loc = response_loc.json()\n",
        "\n",
        "# 緯度経度の取得\n",
        "location = json_data_loc['results'][0]['geometry']['location']\n",
        "latitude = location['lat']\n",
        "longitude = location['lng']\n",
        "\n",
        "#レストランのURLを取得\n",
        "restaurant_url = 'https://maps.googleapis.com/maps/api/place/nearbysearch/json'\n",
        "\n",
        "response_rst = requests.get(\n",
        "    restaurant_url,\n",
        "    params ={\n",
        "        'location': f'{latitude},{longitude}',\n",
        "        'radius': 500,\n",
        "        'type': 'restaurant',\n",
        "        'language': 'ja',\n",
        "        'key': api_key,\n",
        "    }\n",
        ")\n",
        "# レストランのJSONを取得\n",
        "json_data_rst = response_rst.json()\n",
        "\n",
        "#取得情報の出力\n",
        "for item in json_data_rst['results']:\n",
        "    restaurant_name = item.get('name')\n",
        "    restaurant_rating = item.get('rating')\n",
        "    restaurant_address = item.get('vicinity')\n",
        "    print(f'名称: {restaurant_name},　評価: {restaurant_rating},　住所: {restaurant_address}')"
      ],
      "metadata": {
        "colab": {
          "base_uri": "https://localhost:8080/"
        },
        "id": "q3YTyUqG5e7G",
        "outputId": "7d25cb93-2a83-4b73-b6a0-a71d9d5b750b"
      },
      "execution_count": 7,
      "outputs": [
        {
          "output_type": "stream",
          "name": "stdout",
          "text": [
            "Requirement already satisfied: requests in /usr/local/lib/python3.10/dist-packages (2.31.0)\n",
            "Requirement already satisfied: charset-normalizer<4,>=2 in /usr/local/lib/python3.10/dist-packages (from requests) (3.3.2)\n",
            "Requirement already satisfied: idna<4,>=2.5 in /usr/local/lib/python3.10/dist-packages (from requests) (3.7)\n",
            "Requirement already satisfied: urllib3<3,>=1.21.1 in /usr/local/lib/python3.10/dist-packages (from requests) (2.0.7)\n",
            "Requirement already satisfied: certifi>=2017.4.17 in /usr/local/lib/python3.10/dist-packages (from requests) (2024.2.2)\n",
            "APIキーを入力してください: ··········\n",
            "駅名を入力してください: 秋葉原\n",
            "名称: とんこつラーメン 博多風龍 秋葉原総本店,　評価: 4,　住所: 千代田区外神田３丁目１５−６\n",
            "名称: トラットリア ラ・テスタドゥーラ,　評価: 4.3,　住所: 千代田区神田須田町１丁目１３−８ 加納ビル 1階\n",
            "名称: 伊吹や製麺 秋葉原UDX店,　評価: 3.6,　住所: 千代田区外神田４丁目１４−１ 秋葉原UDXレストラン街アキバイチ 2F\n",
            "名称: デニーズ秋葉原中央口店,　評価: 3.7,　住所: 千代田区神田佐久間町１丁目８−３ ダイハツ秋葉原ビル２Ｆ\n",
            "名称: スターバックスコーヒー アトレ秋葉原1店,　評価: 3.9,　住所: 千代田区外神田１丁目１７−６ アトレ秋葉原 １\n",
            "名称: ペッパーランチ 秋葉原店,　評価: 3.7,　住所: 千代田区外神田１丁目１５−１ 半田ビル 1F\n",
            "名称: てんぷら 天芳,　評価: 4.1,　住所: 千代田区神田練塀町３−１０\n",
            "名称: ローストビーフ大野 秋葉原店,　評価: 4.6,　住所: 千代田区外神田１丁目２−３ 土屋ビル 地下1階\n",
            "名称: そば処 新田毎,　評価: 3.5,　住所: 千代田区外神田１丁目１７−６ 改札内 4階 総武線下り6番ホーム中ほど 秋葉原駅\n",
            "名称: かんだやぶそば,　評価: 4,　住所: 千代田区神田淡路町２丁目１０\n",
            "名称: カールスジュニア秋葉原中央通りレストラン,　評価: 4.1,　住所: 千代田区外神田４丁目４−３ 秋葉原Silビル 1階\n",
            "名称: 中華料理 雁川,　評価: 3.9,　住所: 千代田区外神田３丁目１０−１０ 白銀会館 Ｂ１Ｆ\n",
            "名称: 春日亭 秋葉原店,　評価: 4.1,　住所: 千代田区外神田３丁目１−１２ 大石ビル 1F\n",
            "名称: カラオケパセラ秋葉原電気街店,　評価: 4,　住所: 千代田区外神田１丁目１３−２ パセラリゾーツ秋葉原電気街店１Ｆ\n",
            "名称: いろり庵きらく 秋葉原,　評価: 3.6,　住所: 千代田区神田花岡町１−９\n",
            "名称: Blossom & Bouquet 秋葉原UDX店,　評価: 3.7,　住所: 千代田区外神田４丁目１４−１ 秋葉原UDXビル 5F\n",
            "名称: カラオケパセラ秋葉原昭和通り館,　評価: 3.9,　住所: 千代田区神田佐久間町２丁目１０ パセラリゾーツ 秋葉原昭和通り館 １F\n",
            "名称: ホテルマイステイズ御茶ノ水コンファレンスセンター,　評価: 4.1,　住所: 千代田区神田淡路町２丁目１０−６\n",
            "名称: 名代 富士そば 昭和通り店,　評価: 3.4,　住所: 千代田区神田和泉町１−２\n",
            "名称: アジアンダイニングバーSAPANA秋葉原UDX店,　評価: 3.8,　住所: 千代田区外神田４丁目１４−１ 秋葉原UDX2F\n"
          ]
        }
      ]
    }
  ]
}