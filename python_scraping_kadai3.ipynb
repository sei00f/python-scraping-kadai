{
  "nbformat": 4,
  "nbformat_minor": 0,
  "metadata": {
    "colab": {
      "provenance": [],
      "authorship_tag": "ABX9TyPtM1gMhvokAKLKcvWSSJBO",
      "include_colab_link": true
    },
    "kernelspec": {
      "name": "python3",
      "display_name": "Python 3"
    },
    "language_info": {
      "name": "python"
    }
  },
  "cells": [
    {
      "cell_type": "markdown",
      "metadata": {
        "id": "view-in-github",
        "colab_type": "text"
      },
      "source": [
        "<a href=\"https://colab.research.google.com/github/sei00f/python-scraping-kadai/blob/main/python_scraping_kadai3.ipynb\" target=\"_parent\"><img src=\"https://colab.research.google.com/assets/colab-badge.svg\" alt=\"Open In Colab\"/></a>"
      ]
    },
    {
      "cell_type": "code",
      "execution_count": 20,
      "metadata": {
        "colab": {
          "base_uri": "https://localhost:8080/"
        },
        "id": "c_mgJ-IvnUmV",
        "outputId": "93300333-77c3-48c6-e911-27102955e0a5"
      },
      "outputs": [
        {
          "name": "stdout",
          "output_type": "stream",
          "text": [
            "Requirement already satisfied: selenium in /usr/local/lib/python3.10/dist-packages (4.21.0)\n",
            "Requirement already satisfied: urllib3[socks]<3,>=1.26 in /usr/local/lib/python3.10/dist-packages (from selenium) (2.0.7)\n",
            "Requirement already satisfied: trio~=0.17 in /usr/local/lib/python3.10/dist-packages (from selenium) (0.25.1)\n",
            "Requirement already satisfied: trio-websocket~=0.9 in /usr/local/lib/python3.10/dist-packages (from selenium) (0.11.1)\n",
            "Requirement already satisfied: certifi>=2021.10.8 in /usr/local/lib/python3.10/dist-packages (from selenium) (2024.2.2)\n",
            "Requirement already satisfied: typing_extensions>=4.9.0 in /usr/local/lib/python3.10/dist-packages (from selenium) (4.11.0)\n",
            "Requirement already satisfied: attrs>=23.2.0 in /usr/local/lib/python3.10/dist-packages (from trio~=0.17->selenium) (23.2.0)\n",
            "Requirement already satisfied: sortedcontainers in /usr/local/lib/python3.10/dist-packages (from trio~=0.17->selenium) (2.4.0)\n",
            "Requirement already satisfied: idna in /usr/local/lib/python3.10/dist-packages (from trio~=0.17->selenium) (3.7)\n",
            "Requirement already satisfied: outcome in /usr/local/lib/python3.10/dist-packages (from trio~=0.17->selenium) (1.3.0.post0)\n",
            "Requirement already satisfied: sniffio>=1.3.0 in /usr/local/lib/python3.10/dist-packages (from trio~=0.17->selenium) (1.3.1)\n",
            "Requirement already satisfied: exceptiongroup in /usr/local/lib/python3.10/dist-packages (from trio~=0.17->selenium) (1.2.1)\n",
            "Requirement already satisfied: wsproto>=0.14 in /usr/local/lib/python3.10/dist-packages (from trio-websocket~=0.9->selenium) (1.2.0)\n",
            "Requirement already satisfied: pysocks!=1.5.7,<2.0,>=1.5.6 in /usr/local/lib/python3.10/dist-packages (from urllib3[socks]<3,>=1.26->selenium) (1.7.1)\n",
            "Requirement already satisfied: h11<1,>=0.9.0 in /usr/local/lib/python3.10/dist-packages (from wsproto>=0.14->trio-websocket~=0.9->selenium) (0.14.0)\n",
            "メールアドレスを入力してください: hustles_aioli.0j@icloud.com\n",
            "パスワードを入力してください: ··········\n"
          ]
        }
      ],
      "source": [
        "!pip install selenium\n",
        "\n",
        "from selenium import webdriver\n",
        "from selenium.webdriver.common.by import By\n",
        "from selenium.webdriver.support.ui import WebDriverWait\n",
        "from selenium.webdriver.support import expected_conditions as EC  # EC: expected conditions\n",
        "from getpass import getpass\n",
        "\n",
        "# Chromeブラウザ起動オプションを指定\n",
        "chrome_options = webdriver.ChromeOptions()\n",
        "chrome_options.add_argument('--headless')\n",
        "chrome_options.add_argument('--no-sandbox')\n",
        "chrome_options.add_argument('--disable-dev-shm-usage')\n",
        "\n",
        "# Chromeの立ち上げ\n",
        "chrome_driver = webdriver.Chrome(options=chrome_options)\n",
        "\n",
        "# TERAKOYAのトップページへアクセス\n",
        "chrome_driver.get('https://terakoya.sejuku.net/register')\n",
        "\n",
        "# 最大30秒間ログインボタンが表示されるのを待つ\n",
        "wait = WebDriverWait(chrome_driver, 30)\n",
        "header_login_button = wait.until(\n",
        "    EC.visibility_of_element_located(\n",
        "        (By.CSS_SELECTOR,\n",
        "         '#root > header > div.sc-gVnjqf.hmpxri')\n",
        "    )\n",
        ")\n",
        "\n",
        "# ログインボタンをクリック\n",
        "header_login_button.click()\n",
        "\n",
        "#メールアドレスとパスワードを入力する\n",
        "email_address = input('メールアドレスを入力してください: ')\n",
        "password = getpass('パスワードを入力してください: ')\n",
        "\n",
        "# メールアドレスとパスワードの入力欄を見つける\n",
        "parent_element = chrome_driver.find_element(By.CSS_SELECTOR, '.sc-eDWCr.dePrRH')\n",
        "email_input = parent_element.find_element(By.NAME, 'email')\n",
        "password_input = parent_element.find_element(By.NAME, 'password')\n",
        "\n",
        "# メールアドレスとパスワードを設定\n",
        "email_input.send_keys(email_address)\n",
        "password_input.send_keys(password)\n",
        "\n",
        "# ログインボタンをクリック\n",
        "form_login_button = wait.until(\n",
        "    EC.visibility_of_element_located(\n",
        "        (By.CSS_SELECTOR,\n",
        "         '#root > div.sc-pyfCe.cZfPwB > div.sc-kDvujY.eCJBhf > div.sc-eDWCr.dePrRH > button')\n",
        "    )\n",
        ")\n",
        "form_login_button.click()\n",
        "\n",
        "# ログイン後、要素が読み込まれるまで待つ\n",
        "wait.until(EC.visibility_of_element_located((By.CSS_SELECTOR, 'nav > img ')))\n",
        "\n",
        "# TERAKOYAのアカウントページへアクセス\n",
        "chrome_driver.get('https://terakoya.sejuku.net/account/profile')\n",
        "\n",
        "# 編集をクリック\n",
        "form_edit_button = wait.until(\n",
        "    EC.visibility_of_element_located(\n",
        "        (By.CSS_SELECTOR,\n",
        "         '#root > div.sc-laxFgQ.cclCBC > div > div > main > div > div.sc-iekKlR.dzBEOV > button')\n",
        "    )\n",
        ")\n",
        "form_edit_button.click()\n",
        "\n",
        "# テキストエリアを探す\n",
        "parent_element = chrome_driver.find_element(By.CSS_SELECTOR, '.sc-iekKlR.dzBEOV')\n",
        "textarea_input = parent_element.find_element(By.TAG_NAME, 'textarea')\n",
        "#root > div.sc-laxFgQ.cclCBC > div > div > main > div > div.sc-iekKlR.dzBEOV > div:nth-child(10)\n",
        "\n",
        "#　テキストを設定\n",
        "textarea_input.send_keys('プログラミング学習中です！今はスクレイピングに挑戦しています！')\n",
        "\n",
        "# 更新するをクリック\n",
        "form_update_button = wait.until(\n",
        "    EC.visibility_of_element_located(\n",
        "        (By.CSS_SELECTOR,\n",
        "         '#root > div.sc-laxFgQ.cclCBC > div > div > main > div > div.sc-iekKlR.dzBEOV > button.sc-eDvSVe.iklejs.sc-iNTzRa.cPzxKr')\n",
        "    )\n",
        ")\n",
        "form_update_button.click()"
      ]
    },
    {
      "cell_type": "code",
      "source": [],
      "metadata": {
        "id": "uTsyebpF0ulO"
      },
      "execution_count": null,
      "outputs": []
    }
  ]
}